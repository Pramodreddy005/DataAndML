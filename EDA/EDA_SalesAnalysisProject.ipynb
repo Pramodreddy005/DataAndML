{
 "cells": [
  {
   "cell_type": "markdown",
   "id": "6420fc12",
   "metadata": {},
   "source": [
    "# Sales Analysis of E-Commerce Platform"
   ]
  },
  {
   "cell_type": "markdown",
   "id": "2d37fc67",
   "metadata": {},
   "source": [
    "## Importing necessary libraries"
   ]
  },
  {
   "cell_type": "code",
   "execution_count": 1,
   "id": "58c6e78c",
   "metadata": {},
   "outputs": [
    {
     "name": "stdout",
     "output_type": "stream",
     "text": [
      "Imported\n"
     ]
    }
   ],
   "source": [
    "import numpy as np\n",
    "import pandas as pd\n",
    "import matplotlib.pyplot as plt\n",
    "import seaborn as sns\n",
    "print(\"Imported\")"
   ]
  },
  {
   "cell_type": "markdown",
   "id": "8cf98493",
   "metadata": {},
   "source": [
    "## Data Cleaning"
   ]
  },
  {
   "cell_type": "code",
   "execution_count": 2,
   "id": "0a7a5150",
   "metadata": {},
   "outputs": [
    {
     "data": {
      "text/html": [
       "<div>\n",
       "<style scoped>\n",
       "    .dataframe tbody tr th:only-of-type {\n",
       "        vertical-align: middle;\n",
       "    }\n",
       "\n",
       "    .dataframe tbody tr th {\n",
       "        vertical-align: top;\n",
       "    }\n",
       "\n",
       "    .dataframe thead th {\n",
       "        text-align: right;\n",
       "    }\n",
       "</style>\n",
       "<table border=\"1\" class=\"dataframe\">\n",
       "  <thead>\n",
       "    <tr style=\"text-align: right;\">\n",
       "      <th></th>\n",
       "      <th>User_ID</th>\n",
       "      <th>Cust_name</th>\n",
       "      <th>Product_ID</th>\n",
       "      <th>Gender</th>\n",
       "      <th>Age Group</th>\n",
       "      <th>Age</th>\n",
       "      <th>Marital_Status</th>\n",
       "      <th>State</th>\n",
       "      <th>Zone</th>\n",
       "      <th>Occupation</th>\n",
       "      <th>Product_Category</th>\n",
       "      <th>Orders</th>\n",
       "      <th>Amount</th>\n",
       "      <th>Status</th>\n",
       "      <th>unnamed1</th>\n",
       "    </tr>\n",
       "  </thead>\n",
       "  <tbody>\n",
       "    <tr>\n",
       "      <th>0</th>\n",
       "      <td>1002903</td>\n",
       "      <td>Sanskriti</td>\n",
       "      <td>P00125942</td>\n",
       "      <td>F</td>\n",
       "      <td>26-35</td>\n",
       "      <td>28</td>\n",
       "      <td>0</td>\n",
       "      <td>Maharashtra</td>\n",
       "      <td>Western</td>\n",
       "      <td>Healthcare</td>\n",
       "      <td>Auto</td>\n",
       "      <td>1</td>\n",
       "      <td>23952.0</td>\n",
       "      <td>NaN</td>\n",
       "      <td>NaN</td>\n",
       "    </tr>\n",
       "    <tr>\n",
       "      <th>1</th>\n",
       "      <td>1000732</td>\n",
       "      <td>Kartik</td>\n",
       "      <td>P00110942</td>\n",
       "      <td>F</td>\n",
       "      <td>26-35</td>\n",
       "      <td>35</td>\n",
       "      <td>1</td>\n",
       "      <td>Andhra Pradesh</td>\n",
       "      <td>Southern</td>\n",
       "      <td>Govt</td>\n",
       "      <td>Auto</td>\n",
       "      <td>3</td>\n",
       "      <td>23934.0</td>\n",
       "      <td>NaN</td>\n",
       "      <td>NaN</td>\n",
       "    </tr>\n",
       "    <tr>\n",
       "      <th>2</th>\n",
       "      <td>1001990</td>\n",
       "      <td>Bindu</td>\n",
       "      <td>P00118542</td>\n",
       "      <td>F</td>\n",
       "      <td>26-35</td>\n",
       "      <td>35</td>\n",
       "      <td>1</td>\n",
       "      <td>Uttar Pradesh</td>\n",
       "      <td>Central</td>\n",
       "      <td>Automobile</td>\n",
       "      <td>Auto</td>\n",
       "      <td>3</td>\n",
       "      <td>23924.0</td>\n",
       "      <td>NaN</td>\n",
       "      <td>NaN</td>\n",
       "    </tr>\n",
       "    <tr>\n",
       "      <th>3</th>\n",
       "      <td>1001425</td>\n",
       "      <td>Sudevi</td>\n",
       "      <td>P00237842</td>\n",
       "      <td>M</td>\n",
       "      <td>0-17</td>\n",
       "      <td>16</td>\n",
       "      <td>0</td>\n",
       "      <td>Karnataka</td>\n",
       "      <td>Southern</td>\n",
       "      <td>Construction</td>\n",
       "      <td>Auto</td>\n",
       "      <td>2</td>\n",
       "      <td>23912.0</td>\n",
       "      <td>NaN</td>\n",
       "      <td>NaN</td>\n",
       "    </tr>\n",
       "    <tr>\n",
       "      <th>4</th>\n",
       "      <td>1000588</td>\n",
       "      <td>Joni</td>\n",
       "      <td>P00057942</td>\n",
       "      <td>M</td>\n",
       "      <td>26-35</td>\n",
       "      <td>28</td>\n",
       "      <td>1</td>\n",
       "      <td>Gujarat</td>\n",
       "      <td>Western</td>\n",
       "      <td>Food Processing</td>\n",
       "      <td>Auto</td>\n",
       "      <td>2</td>\n",
       "      <td>23877.0</td>\n",
       "      <td>NaN</td>\n",
       "      <td>NaN</td>\n",
       "    </tr>\n",
       "    <tr>\n",
       "      <th>...</th>\n",
       "      <td>...</td>\n",
       "      <td>...</td>\n",
       "      <td>...</td>\n",
       "      <td>...</td>\n",
       "      <td>...</td>\n",
       "      <td>...</td>\n",
       "      <td>...</td>\n",
       "      <td>...</td>\n",
       "      <td>...</td>\n",
       "      <td>...</td>\n",
       "      <td>...</td>\n",
       "      <td>...</td>\n",
       "      <td>...</td>\n",
       "      <td>...</td>\n",
       "      <td>...</td>\n",
       "    </tr>\n",
       "    <tr>\n",
       "      <th>11246</th>\n",
       "      <td>1000695</td>\n",
       "      <td>Manning</td>\n",
       "      <td>P00296942</td>\n",
       "      <td>M</td>\n",
       "      <td>18-25</td>\n",
       "      <td>19</td>\n",
       "      <td>1</td>\n",
       "      <td>Maharashtra</td>\n",
       "      <td>Western</td>\n",
       "      <td>Chemical</td>\n",
       "      <td>Office</td>\n",
       "      <td>4</td>\n",
       "      <td>370.0</td>\n",
       "      <td>NaN</td>\n",
       "      <td>NaN</td>\n",
       "    </tr>\n",
       "    <tr>\n",
       "      <th>11247</th>\n",
       "      <td>1004089</td>\n",
       "      <td>Reichenbach</td>\n",
       "      <td>P00171342</td>\n",
       "      <td>M</td>\n",
       "      <td>26-35</td>\n",
       "      <td>33</td>\n",
       "      <td>0</td>\n",
       "      <td>Haryana</td>\n",
       "      <td>Northern</td>\n",
       "      <td>Healthcare</td>\n",
       "      <td>Veterinary</td>\n",
       "      <td>3</td>\n",
       "      <td>367.0</td>\n",
       "      <td>NaN</td>\n",
       "      <td>NaN</td>\n",
       "    </tr>\n",
       "    <tr>\n",
       "      <th>11248</th>\n",
       "      <td>1001209</td>\n",
       "      <td>Oshin</td>\n",
       "      <td>P00201342</td>\n",
       "      <td>F</td>\n",
       "      <td>36-45</td>\n",
       "      <td>40</td>\n",
       "      <td>0</td>\n",
       "      <td>Madhya Pradesh</td>\n",
       "      <td>Central</td>\n",
       "      <td>Textile</td>\n",
       "      <td>Office</td>\n",
       "      <td>4</td>\n",
       "      <td>213.0</td>\n",
       "      <td>NaN</td>\n",
       "      <td>NaN</td>\n",
       "    </tr>\n",
       "    <tr>\n",
       "      <th>11249</th>\n",
       "      <td>1004023</td>\n",
       "      <td>Noonan</td>\n",
       "      <td>P00059442</td>\n",
       "      <td>M</td>\n",
       "      <td>36-45</td>\n",
       "      <td>37</td>\n",
       "      <td>0</td>\n",
       "      <td>Karnataka</td>\n",
       "      <td>Southern</td>\n",
       "      <td>Agriculture</td>\n",
       "      <td>Office</td>\n",
       "      <td>3</td>\n",
       "      <td>206.0</td>\n",
       "      <td>NaN</td>\n",
       "      <td>NaN</td>\n",
       "    </tr>\n",
       "    <tr>\n",
       "      <th>11250</th>\n",
       "      <td>1002744</td>\n",
       "      <td>Brumley</td>\n",
       "      <td>P00281742</td>\n",
       "      <td>F</td>\n",
       "      <td>18-25</td>\n",
       "      <td>19</td>\n",
       "      <td>0</td>\n",
       "      <td>Maharashtra</td>\n",
       "      <td>Western</td>\n",
       "      <td>Healthcare</td>\n",
       "      <td>Office</td>\n",
       "      <td>3</td>\n",
       "      <td>188.0</td>\n",
       "      <td>NaN</td>\n",
       "      <td>NaN</td>\n",
       "    </tr>\n",
       "  </tbody>\n",
       "</table>\n",
       "<p>11251 rows × 15 columns</p>\n",
       "</div>"
      ],
      "text/plain": [
       "       User_ID    Cust_name Product_ID Gender Age Group  Age  Marital_Status  \\\n",
       "0      1002903    Sanskriti  P00125942      F     26-35   28               0   \n",
       "1      1000732       Kartik  P00110942      F     26-35   35               1   \n",
       "2      1001990        Bindu  P00118542      F     26-35   35               1   \n",
       "3      1001425       Sudevi  P00237842      M      0-17   16               0   \n",
       "4      1000588         Joni  P00057942      M     26-35   28               1   \n",
       "...        ...          ...        ...    ...       ...  ...             ...   \n",
       "11246  1000695      Manning  P00296942      M     18-25   19               1   \n",
       "11247  1004089  Reichenbach  P00171342      M     26-35   33               0   \n",
       "11248  1001209        Oshin  P00201342      F     36-45   40               0   \n",
       "11249  1004023       Noonan  P00059442      M     36-45   37               0   \n",
       "11250  1002744      Brumley  P00281742      F     18-25   19               0   \n",
       "\n",
       "                State      Zone       Occupation Product_Category  Orders  \\\n",
       "0         Maharashtra   Western       Healthcare             Auto       1   \n",
       "1      Andhra Pradesh  Southern             Govt             Auto       3   \n",
       "2       Uttar Pradesh   Central       Automobile             Auto       3   \n",
       "3           Karnataka  Southern     Construction             Auto       2   \n",
       "4             Gujarat   Western  Food Processing             Auto       2   \n",
       "...               ...       ...              ...              ...     ...   \n",
       "11246     Maharashtra   Western         Chemical           Office       4   \n",
       "11247         Haryana  Northern       Healthcare       Veterinary       3   \n",
       "11248  Madhya Pradesh   Central          Textile           Office       4   \n",
       "11249       Karnataka  Southern      Agriculture           Office       3   \n",
       "11250     Maharashtra   Western       Healthcare           Office       3   \n",
       "\n",
       "        Amount  Status  unnamed1  \n",
       "0      23952.0     NaN       NaN  \n",
       "1      23934.0     NaN       NaN  \n",
       "2      23924.0     NaN       NaN  \n",
       "3      23912.0     NaN       NaN  \n",
       "4      23877.0     NaN       NaN  \n",
       "...        ...     ...       ...  \n",
       "11246    370.0     NaN       NaN  \n",
       "11247    367.0     NaN       NaN  \n",
       "11248    213.0     NaN       NaN  \n",
       "11249    206.0     NaN       NaN  \n",
       "11250    188.0     NaN       NaN  \n",
       "\n",
       "[11251 rows x 15 columns]"
      ]
     },
     "execution_count": 2,
     "metadata": {},
     "output_type": "execute_result"
    }
   ],
   "source": [
    "data=pd.read_csv(r\"C:\\Users\\pramo\\Datasets\\datasets\\EcomerceSalesData.csv\")\n",
    "data"
   ]
  },
  {
   "cell_type": "code",
   "execution_count": null,
   "id": "4aa1c76d",
   "metadata": {
    "scrolled": true
   },
   "outputs": [],
   "source": [
    "data.shape"
   ]
  },
  {
   "cell_type": "code",
   "execution_count": null,
   "id": "da5cfced",
   "metadata": {
    "scrolled": true
   },
   "outputs": [],
   "source": [
    "data.head()\n",
    "#data.tail() "
   ]
  },
  {
   "cell_type": "code",
   "execution_count": null,
   "id": "7ba8ce12",
   "metadata": {
    "scrolled": true
   },
   "outputs": [],
   "source": [
    "data.info()"
   ]
  },
  {
   "cell_type": "markdown",
   "id": "3c408758",
   "metadata": {},
   "source": [
    "### Dropping Unnecessary Columns"
   ]
  },
  {
   "cell_type": "code",
   "execution_count": null,
   "id": "50d1e8aa",
   "metadata": {
    "scrolled": true
   },
   "outputs": [],
   "source": [
    "data.drop(['Status','unnamed1'],axis=1,inplace=True)\n",
    "data"
   ]
  },
  {
   "cell_type": "code",
   "execution_count": null,
   "id": "eadae9c3",
   "metadata": {
    "scrolled": true
   },
   "outputs": [],
   "source": [
    "data.info()"
   ]
  },
  {
   "cell_type": "code",
   "execution_count": null,
   "id": "2c944a60",
   "metadata": {
    "scrolled": true
   },
   "outputs": [],
   "source": [
    "data.isnull().sum()"
   ]
  },
  {
   "cell_type": "markdown",
   "id": "d52cd6b4",
   "metadata": {},
   "source": [
    "### Dropping Null values"
   ]
  },
  {
   "cell_type": "code",
   "execution_count": null,
   "id": "8a639971",
   "metadata": {
    "scrolled": true
   },
   "outputs": [],
   "source": [
    "data.dropna(inplace=True)\n",
    "data.isnull().sum()"
   ]
  },
  {
   "cell_type": "markdown",
   "id": "f3360d02",
   "metadata": {},
   "source": [
    "### Changing Datatypes"
   ]
  },
  {
   "cell_type": "code",
   "execution_count": null,
   "id": "4b81b6e8",
   "metadata": {
    "scrolled": true
   },
   "outputs": [],
   "source": [
    "# Change datatypes\n",
    "##df = df.astype({'A': 'int', 'B': 'float', 'C': 'int'}) change multiple at once\n",
    "data['Amount']=data['Amount'].astype(int)\n",
    "data['Marital_Status']=data['Marital_Status'].astype(object)\n",
    "data['Marital_Status'] = data['Marital_Status'].replace({0: \"Unmarried\", 1: \"Married\"})\n",
    "data['Gender'] = data['Gender'].replace({'M': \"Male\", \"F\": \"Female\"})"
   ]
  },
  {
   "cell_type": "code",
   "execution_count": null,
   "id": "9125bce9",
   "metadata": {
    "scrolled": true
   },
   "outputs": [],
   "source": [
    "data.dtypes"
   ]
  },
  {
   "cell_type": "markdown",
   "id": "6e1d609f",
   "metadata": {},
   "source": [
    "### Renaming columns for readability"
   ]
  },
  {
   "cell_type": "code",
   "execution_count": null,
   "id": "733c1b14",
   "metadata": {
    "scrolled": true
   },
   "outputs": [],
   "source": [
    "#renaming columns\n",
    "data.rename(columns={'Orders':'Order_count','Amount':'Total_Amount','Age Group':'Age_Group'},inplace=True)\n",
    "data.columns"
   ]
  },
  {
   "cell_type": "code",
   "execution_count": null,
   "id": "07b98f85",
   "metadata": {
    "scrolled": true
   },
   "outputs": [],
   "source": [
    "data.describe() \n",
    "data[['Age','Order_count','Total_Amount']].describe()"
   ]
  },
  {
   "cell_type": "markdown",
   "id": "744a8c12",
   "metadata": {},
   "source": [
    "## Exploratory data Analysis"
   ]
  },
  {
   "cell_type": "code",
   "execution_count": null,
   "id": "a9b20b28",
   "metadata": {
    "scrolled": true
   },
   "outputs": [],
   "source": [
    "#sns.set_style('whitegrid')  # Replace with any style ('darkgrid', 'dark', 'white', 'ticks')\n",
    "sns.set_style('darkgrid')\n",
    "sns.set_palette((sns.color_palette('viridis')))"
   ]
  },
  {
   "cell_type": "markdown",
   "id": "79eedede",
   "metadata": {},
   "source": [
    "### Sales by Gender"
   ]
  },
  {
   "cell_type": "code",
   "execution_count": null,
   "id": "c576ae68",
   "metadata": {
    "scrolled": true
   },
   "outputs": [],
   "source": [
    "# CountPlot to see number of male and female orders\n",
    "#palettes=set1,set2,set3,deep,muted,bright,dark,pastel,Blues,BuGn,OrRd\n",
    "Count_plot=sns.countplot(data,x='Gender')\n",
    "Count_plot.set(xlabel=\"Gender\", ylabel=\"OrderCount\", title=\"OrderCount by Gender\")\n",
    "#to get count labels on bars\n",
    "for bars in Count_plot.containers:\n",
    "    Count_plot.bar_label(bars)"
   ]
  },
  {
   "cell_type": "code",
   "execution_count": null,
   "id": "59e0cd6d",
   "metadata": {
    "scrolled": true
   },
   "outputs": [],
   "source": [
    "grouped_df=data.groupby('Gender',as_index=False)['Total_Amount'].sum()\n",
    "plot2=sns.barplot(grouped_df,x='Gender',y='Total_Amount')\n",
    "plot2.set(xlabel=\"Gender\", ylabel=\"Total_Amount\", title=\"Total_Revenue by Gender\")\n",
    "for bars in plot2.containers:\n",
    "    plot2.bar_label(bars)"
   ]
  },
  {
   "cell_type": "markdown",
   "id": "c275fc56",
   "metadata": {},
   "source": [
    "##### From the above plot we can conclude that the total Amount spent by women is greater over men i.e almost the double of amount spent my men"
   ]
  },
  {
   "cell_type": "markdown",
   "id": "9ceb5a97",
   "metadata": {},
   "source": [
    "### Sales by Age_Group"
   ]
  },
  {
   "cell_type": "code",
   "execution_count": null,
   "id": "943c92ba",
   "metadata": {
    "scrolled": true
   },
   "outputs": [],
   "source": [
    "# Count of age groups\n",
    "plot3=sns.countplot(data,x='Age_Group',hue='Gender',palette='viridis',order=['0-17','18-25','26-35','36-45','46-50','51-55','55+'])\n",
    "plot3.set(xlabel=\"Age_Group\", ylabel=\"Order_Count\", title=\"OrderCount by Age_Group\")\n",
    "for bars in plot3.containers:\n",
    "    plot3.bar_label(bars)"
   ]
  },
  {
   "cell_type": "code",
   "execution_count": null,
   "id": "980ad21a",
   "metadata": {
    "scrolled": true
   },
   "outputs": [],
   "source": [
    "#AmountSpent by different age groups\n",
    "grouped_df=data.groupby('Age_Group',as_index=False)['Total_Amount'].sum().sort_values(by='Total_Amount',ascending=True)\n",
    "plot2=sns.barplot(grouped_df,x='Age_Group',y='Total_Amount',palette='viridis')\n",
    "plot2.set(xlabel=\"Gender\", ylabel=\"Total_Amount\", title=\"Total Revenue by Age_Group\")\n",
    "plt.show()"
   ]
  },
  {
   "cell_type": "markdown",
   "id": "90443989",
   "metadata": {},
   "source": [
    "##### From the above figure we can conclude that the age group people of age(26-35) have Spent Comparatively more amount than other age groups.\n"
   ]
  },
  {
   "cell_type": "code",
   "execution_count": null,
   "id": "3cd4e51b",
   "metadata": {
    "scrolled": true
   },
   "outputs": [],
   "source": [
    "data['Marital_Status'].value_counts()"
   ]
  },
  {
   "cell_type": "markdown",
   "id": "41d1871b",
   "metadata": {},
   "source": [
    "### Sales by Marital_Status"
   ]
  },
  {
   "cell_type": "code",
   "execution_count": null,
   "id": "858eba65",
   "metadata": {},
   "outputs": [],
   "source": [
    "#to get count labels on bars\n",
    "maritial_status_count=sns.countplot(data,x='Marital_Status',palette='viridis',hue='Gender')\n",
    "plt.figure(figsize=(8,5))\n",
    "maritial_status_count.set(xlabel=\"Marital_status\", ylabel=\"OrderCount\", title=\"Orders Count by Marital_status\")\n",
    "for bars in maritial_status_count.containers:\n",
    "    maritial_status_count.bar_label(bars)"
   ]
  },
  {
   "cell_type": "code",
   "execution_count": null,
   "id": "7d4e6466",
   "metadata": {
    "scrolled": true
   },
   "outputs": [],
   "source": [
    "marital_status_amount=data.groupby(['Marital_Status','Gender'],as_index=False,)['Total_Amount'].sum().sort_values(by='Total_Amount',ascending=False)\n",
    "#sns.set(rc={'figure.figsize':(26,7)})\n",
    "plt.figure(figsize=(8,5))\n",
    "plot=sns.barplot(marital_status_amount,x='Marital_Status',y='Total_Amount',palette='BuGn',hue='Gender')\n",
    "plot.set(xlabel=\"Marital_status\", ylabel=\"Total_Amount\", title=\"Total Revenue by Marital_status\")\n",
    "\n",
    "for bars in plot.containers:\n",
    "    plot.bar_label(bars)"
   ]
  },
  {
   "cell_type": "markdown",
   "id": "63b0efea",
   "metadata": {},
   "source": [
    "##### Revenue generated by Unmarried people is more compared to married people and are mostly women."
   ]
  },
  {
   "cell_type": "markdown",
   "id": "33652924",
   "metadata": {},
   "source": [
    "### Sales by Occupation"
   ]
  },
  {
   "cell_type": "code",
   "execution_count": null,
   "id": "4399534f",
   "metadata": {
    "scrolled": true
   },
   "outputs": [],
   "source": [
    "plt.figure(figsize=(25,9))\n",
    "occupation_sales_count=sns.countplot(data,x='Occupation',palette='viridis')\n",
    "for bars in occupation_sales_count.containers:\n",
    "    occupation_sales_count.bar_label(bars)"
   ]
  },
  {
   "cell_type": "code",
   "execution_count": null,
   "id": "79386754",
   "metadata": {
    "scrolled": true
   },
   "outputs": [],
   "source": [
    "occupation_sales_amount=data.groupby('Occupation',as_index=False,)['Total_Amount'].sum().sort_values(by='Total_Amount',ascending=False)\n",
    "#sns.set(rc={'figure.figsize':(26,7)})\n",
    "plt.figure(figsize=(26,7))\n",
    "plot=sns.barplot(occupation_sales_amount,x='Occupation',y='Total_Amount',palette='viridis')\n",
    "for bars in plot.containers:\n",
    "    plot.bar_label(bars)"
   ]
  },
  {
   "cell_type": "markdown",
   "id": "0e37227e",
   "metadata": {},
   "source": [
    "### Sales by State"
   ]
  },
  {
   "cell_type": "code",
   "execution_count": null,
   "id": "29b24e2c",
   "metadata": {
    "scrolled": true
   },
   "outputs": [],
   "source": [
    "State_sales_count=data.groupby('State',as_index=False)['Order_count'].sum().sort_values(by='Order_count',ascending=False)\n",
    "#sns.set(rc={'figure.figsize':(26,7)}) changes default size\n",
    "plt.figure(figsize=(26,7))\n",
    "plot=sns.barplot(State_sales_count,x='State',y='Order_count',palette='viridis')\n",
    "plot.set(xlabel=\"State\", ylabel=\"order_quantity\", title=\"Order Quantity by State\")\n",
    "for bars in plot.containers:\n",
    "    plot.bar_label(bars)"
   ]
  },
  {
   "cell_type": "code",
   "execution_count": null,
   "id": "3961a81e",
   "metadata": {
    "scrolled": true
   },
   "outputs": [],
   "source": [
    "state_sales_amount=data.groupby('State',as_index=False)['Total_Amount'].sum().sort_values(by='Total_Amount',ascending=False)\n",
    "#sns.set(rc={'figure.figsize':(26,7)})\n",
    "plt.figure(figsize=(26,7))\n",
    "plot=sns.barplot(state_sales_amount,x='State',y='Total_Amount',palette='viridis')\n",
    "plot.set(xlabel=\"State\", ylabel=\"Total_Amount\", title=\"Total revenue by State\")\n",
    "for bars in plot.containers:\n",
    "    plot.bar_label(bars)\n",
    "plt.show()"
   ]
  },
  {
   "cell_type": "markdown",
   "id": "1c3fa5f5",
   "metadata": {},
   "source": [
    "##### Most of the revenue generated by the company is from UttarPradesh with highest of all, followed by Maharashtra and Karnataka in the third place."
   ]
  },
  {
   "cell_type": "markdown",
   "id": "ef28fc9f",
   "metadata": {},
   "source": [
    "### Sales by Product_Category"
   ]
  },
  {
   "cell_type": "code",
   "execution_count": null,
   "id": "d1def2bd",
   "metadata": {
    "scrolled": true
   },
   "outputs": [],
   "source": [
    "plt.figure(figsize=(25,7))\n",
    "product_category_sales_count=sns.countplot(data,x='Product_Category',palette='viridis')\n",
    "product_category_sales_count.set(xlabel=\"Product_Category\", ylabel=\"Order_Count\", title=\"Orders Count by Product_category\")\n",
    "for bars in product_category_sales_count.containers:\n",
    "    product_category_sales_count.bar_label(bars)"
   ]
  },
  {
   "cell_type": "code",
   "execution_count": null,
   "id": "18bfd97a",
   "metadata": {},
   "outputs": [],
   "source": [
    "product_category_sales_amount=data.groupby('Product_Category',as_index=False,)['Total_Amount'].sum().sort_values(by='Total_Amount',ascending=False)\n",
    "#sns.set(rc={'figure.figsize':(26,7)})\n",
    "plt.figure(figsize=(30,7))\n",
    "plot=sns.barplot(product_category_sales_amount,x='Product_Category',y='Total_Amount',palette='viridis')\n",
    "plot.set(xlabel=\"Product_Category\", ylabel=\"Total_Amount\", title=\"Total Revenue by Product_category\")\n",
    "\n",
    "for bars in plot.containers:\n",
    "    plot.bar_label(bars)"
   ]
  },
  {
   "cell_type": "markdown",
   "id": "244ed248",
   "metadata": {},
   "source": [
    "## Interpretation"
   ]
  },
  {
   "cell_type": "markdown",
   "id": "0624df7f",
   "metadata": {},
   "source": [
    "### Top Five performing States and Product_Categories"
   ]
  },
  {
   "cell_type": "code",
   "execution_count": null,
   "id": "e782a114",
   "metadata": {},
   "outputs": [],
   "source": [
    "plt.figure(figsize=(20,7))\n",
    "plot=sns.barplot(state_sales_amount.head(5),x='State',y='Total_Amount',palette='viridis')\n",
    "plot.set(xlabel=\"State\", ylabel=\"Total_Amount\", title= \"Top Five States by Revenue\")\n",
    "plt.show()"
   ]
  },
  {
   "cell_type": "code",
   "execution_count": null,
   "id": "02ae310b",
   "metadata": {},
   "outputs": [],
   "source": [
    "plt.figure(figsize=(20,7))\n",
    "plot=sns.barplot(product_category_sales_amount.head(5),x='Product_Category',y='Total_Amount',palette='viridis')\n",
    "plot.set(xlabel=\"Product_Category\", ylabel=\"Total_Amount\", title=\"Top Five Product Categories\")\n",
    "plt.show()"
   ]
  },
  {
   "cell_type": "markdown",
   "id": "d4ea9260",
   "metadata": {},
   "source": [
    "### Overally, We can conclude that the company generated most of revenue from product categories Food, Clothing & apparel and Electronic & gadgets with Uttarpradesh state contributing significantly higher revenue than rest of the states, attracting most of the women customers with their products."
   ]
  },
  {
   "cell_type": "code",
   "execution_count": null,
   "id": "26c3878d",
   "metadata": {},
   "outputs": [],
   "source": []
  }
 ],
 "metadata": {
  "kernelspec": {
   "display_name": "Python 3 (ipykernel)",
   "language": "python",
   "name": "python3"
  },
  "language_info": {
   "codemirror_mode": {
    "name": "ipython",
    "version": 3
   },
   "file_extension": ".py",
   "mimetype": "text/x-python",
   "name": "python",
   "nbconvert_exporter": "python",
   "pygments_lexer": "ipython3",
   "version": "3.12.4"
  }
 },
 "nbformat": 4,
 "nbformat_minor": 5
}
